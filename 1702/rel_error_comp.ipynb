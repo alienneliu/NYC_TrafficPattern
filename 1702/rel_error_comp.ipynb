{
 "cells": [
  {
   "cell_type": "code",
   "execution_count": 1,
   "metadata": {
    "collapsed": true
   },
   "outputs": [],
   "source": [
    "import pandas as pd\n",
    "\n",
    "links = pd.read_csv(\"data/links.csv\")\n",
    "nodes = pd.read_csv(\"data/nodes.csv\")"
   ]
  },
  {
   "cell_type": "code",
   "execution_count": 2,
   "metadata": {
    "collapsed": true
   },
   "outputs": [],
   "source": [
    "import numpy as np\n",
    "import matplotlib.pyplot as plt\n",
    "%matplotlib inline"
   ]
  },
  {
   "cell_type": "code",
   "execution_count": 12,
   "metadata": {
    "collapsed": true
   },
   "outputs": [],
   "source": [
    "requirs = pd.read_csv(\"data/Errors.csv\", header=None)\n",
    "requirs = np.array(requirs)\n",
    "\n",
    "req_links = requirs[0,:]\n",
    "errs = list(requirs[1,:])"
   ]
  },
  {
   "cell_type": "code",
   "execution_count": 24,
   "metadata": {
    "collapsed": false,
    "scrolled": true
   },
   "outputs": [
    {
     "data": {
      "text/plain": [
       "12.862712418599999"
      ]
     },
     "execution_count": 24,
     "metadata": {},
     "output_type": "execute_result"
    }
   ],
   "source": [
    "min(errs)"
   ]
  },
  {
   "cell_type": "code",
   "execution_count": 14,
   "metadata": {
    "collapsed": false
   },
   "outputs": [],
   "source": [
    "v = {}\n",
    "for link in req_links:\n",
    "    coords=links[['startX','endX','startY','endY']][links['link_id']==link].values[0]\n",
    "    v[link] = [(coords[0],coords[2]),(coords[1], coords[3])]\n",
    "  "
   ]
  },
  {
   "cell_type": "code",
   "execution_count": 15,
   "metadata": {
    "collapsed": true
   },
   "outputs": [],
   "source": [
    "def connectedComponent(v, visit):\n",
    "    queue = []\n",
    "    perThreshold = []\n",
    "    #neighbors dictionary\n",
    "    neighbor = {}\n",
    "    for vertex in vertices_sets:\n",
    "        neighbor[vertex] = []\n",
    "        \n",
    "    component = 0\n",
    "    for i in range(len(vertices_sets)):\n",
    "            #pick an unvisited point\n",
    "            if visit[vertices_sets[i]] == False:\n",
    "                queue.append(vertices_sets[i])\n",
    "                perCompL = []\n",
    "                while len(queue)!=0:\n",
    "                    #flag as visit, and pop\n",
    "                    cur = queue.pop(0)\n",
    "                    visit[cur] = True            \n",
    "                    #find unvisited neighbor, push it to queue, and push it to neighbor dictionary\n",
    "                    for link in qualifiedLinks:\n",
    "                        if cur == v[link][0] and visit[v[link][1]] == False:\n",
    "                            queue.append(v[link][1])\n",
    "                            neighbor[cur].append(v[link][1])\n",
    "                            perCompL.append(link)\n",
    "                        elif cur == v[link][1] and visit[v[link][0]] == False:\n",
    "                            queue.append(v[link][0])\n",
    "                            neighbor[cur].append(v[link][0])\n",
    "                            perCompL.append(link)\n",
    "                        #print(\"curLink = \" + str(link) + \"currnet component\" + str(perCompL))\n",
    "                component = component + 1\n",
    "                perThreshold.append(perCompL)\n",
    "    return component,perThreshold"
   ]
  },
  {
   "cell_type": "code",
   "execution_count": 26,
   "metadata": {
    "collapsed": false
   },
   "outputs": [
    {
     "name": "stdout",
     "output_type": "stream",
     "text": [
      "err = 10 has cc =0\n"
     ]
    },
    {
     "ename": "KeyboardInterrupt",
     "evalue": "",
     "output_type": "error",
     "traceback": [
      "\u001b[0;31m---------------------------------------------------------------------------\u001b[0m",
      "\u001b[0;31mKeyboardInterrupt\u001b[0m                         Traceback (most recent call last)",
      "\u001b[0;32m<ipython-input-26-69b24de202df>\u001b[0m in \u001b[0;36m<module>\u001b[0;34m()\u001b[0m\n\u001b[1;32m     23\u001b[0m         \u001b[0mvisit\u001b[0m\u001b[0;34m[\u001b[0m\u001b[0mvertex\u001b[0m\u001b[0;34m]\u001b[0m \u001b[0;34m=\u001b[0m \u001b[0;32mFalse\u001b[0m\u001b[0;34m\u001b[0m\u001b[0m\n\u001b[1;32m     24\u001b[0m \u001b[0;34m\u001b[0m\u001b[0m\n\u001b[0;32m---> 25\u001b[0;31m     \u001b[0mnum_components\u001b[0m\u001b[0;34m,\u001b[0m \u001b[0mperThreshold\u001b[0m \u001b[0;34m=\u001b[0m \u001b[0mconnectedComponent\u001b[0m\u001b[0;34m(\u001b[0m\u001b[0mv\u001b[0m\u001b[0;34m,\u001b[0m\u001b[0mvisit\u001b[0m\u001b[0;34m)\u001b[0m\u001b[0;34m\u001b[0m\u001b[0m\n\u001b[0m\u001b[1;32m     26\u001b[0m     \u001b[0mlinkslists\u001b[0m\u001b[0;34m.\u001b[0m\u001b[0mappend\u001b[0m\u001b[0;34m(\u001b[0m\u001b[0mperThreshold\u001b[0m\u001b[0;34m)\u001b[0m\u001b[0;34m\u001b[0m\u001b[0m\n\u001b[1;32m     27\u001b[0m     \u001b[0mnum_cc\u001b[0m\u001b[0;34m.\u001b[0m\u001b[0mappend\u001b[0m\u001b[0;34m(\u001b[0m\u001b[0mnum_components\u001b[0m\u001b[0;34m)\u001b[0m\u001b[0;34m\u001b[0m\u001b[0m\n",
      "\u001b[0;32m<ipython-input-15-7e1247d01c0d>\u001b[0m in \u001b[0;36mconnectedComponent\u001b[0;34m(v, visit)\u001b[0m\n\u001b[1;32m     15\u001b[0m                 \u001b[0;32mwhile\u001b[0m \u001b[0mlen\u001b[0m\u001b[0;34m(\u001b[0m\u001b[0mqueue\u001b[0m\u001b[0;34m)\u001b[0m\u001b[0;34m!=\u001b[0m\u001b[0;36m0\u001b[0m\u001b[0;34m:\u001b[0m\u001b[0;34m\u001b[0m\u001b[0m\n\u001b[1;32m     16\u001b[0m                     \u001b[0;31m#flag as visit, and pop\u001b[0m\u001b[0;34m\u001b[0m\u001b[0;34m\u001b[0m\u001b[0m\n\u001b[0;32m---> 17\u001b[0;31m                     \u001b[0mcur\u001b[0m \u001b[0;34m=\u001b[0m \u001b[0mqueue\u001b[0m\u001b[0;34m.\u001b[0m\u001b[0mpop\u001b[0m\u001b[0;34m(\u001b[0m\u001b[0;36m0\u001b[0m\u001b[0;34m)\u001b[0m\u001b[0;34m\u001b[0m\u001b[0m\n\u001b[0m\u001b[1;32m     18\u001b[0m                     \u001b[0mvisit\u001b[0m\u001b[0;34m[\u001b[0m\u001b[0mcur\u001b[0m\u001b[0;34m]\u001b[0m \u001b[0;34m=\u001b[0m \u001b[0;32mTrue\u001b[0m\u001b[0;34m\u001b[0m\u001b[0m\n\u001b[1;32m     19\u001b[0m                     \u001b[0;31m#find unvisited neighbor, push it to queue, and push it to neighbor dictionary\u001b[0m\u001b[0;34m\u001b[0m\u001b[0;34m\u001b[0m\u001b[0m\n",
      "\u001b[0;31mKeyboardInterrupt\u001b[0m: "
     ]
    }
   ],
   "source": [
    "thresholds = list(range(10,100,10))\n",
    "num_cc = []\n",
    "linkslists = [] \n",
    "\n",
    "for i in range(len(thresholds)):\n",
    "#    i = 20\n",
    "    threshold = thresholds[i]\n",
    "    qualifiedIdx = [errs.index(t) for t in errs if t is not np.nan and int(t)<threshold]\n",
    "    qualifiedIdx = list(set(qualifiedIdx))\n",
    "    qualifiedLinks = [req_links[idx] for idx in qualifiedIdx]\n",
    "    #print(\"qualify: \" + str(qualifiedLinks))\n",
    "    \n",
    "    vertices = []\n",
    "    for link in qualifiedLinks:\n",
    "        coords=links[['startX','endX','startY','endY']][links['link_id']==link].values[0]\n",
    "        vertices.append(v[link][0])\n",
    "        vertices.append(v[link][1])\n",
    "    vertices_sets = list(set(vertices))\n",
    "    \n",
    "    \n",
    "    visit = {}\n",
    "    for vertex in vertices_sets:\n",
    "        visit[vertex] = False\n",
    "        \n",
    "    num_components, perThreshold = connectedComponent(v,visit)\n",
    "    linkslists.append(perThreshold)\n",
    "    num_cc.append(num_components)\n",
    "    if i % 10 == 0 or i > 70:\n",
    "        print('err = '+str(thresholds[i]) + \" has cc =\" + str(num_components))\n",
    "    "
   ]
  },
  {
   "cell_type": "code",
   "execution_count": 19,
   "metadata": {
    "collapsed": false
   },
   "outputs": [
    {
     "name": "stdout",
     "output_type": "stream",
     "text": [
      "0\n",
      "0\n",
      "0\n",
      "0\n",
      "0\n",
      "0\n",
      "0\n",
      "0\n",
      "0\n",
      "0\n",
      "0\n",
      "0\n",
      "0\n",
      "1\n",
      "8\n",
      "9\n",
      "13\n",
      "17\n",
      "25\n",
      "33\n",
      "40\n",
      "42\n",
      "46\n",
      "52\n",
      "61\n",
      "66\n",
      "70\n",
      "73\n",
      "74\n",
      "74\n",
      "74\n",
      "74\n",
      "74\n",
      "74\n",
      "74\n",
      "75\n",
      "77\n",
      "82\n",
      "83\n",
      "85\n",
      "86\n",
      "87\n",
      "88\n",
      "88\n",
      "88\n",
      "88\n",
      "88\n",
      "88\n",
      "88\n",
      "88\n",
      "88\n",
      "88\n",
      "88\n",
      "88\n",
      "88\n",
      "88\n",
      "89\n",
      "90\n",
      "94\n",
      "94\n",
      "95\n",
      "96\n",
      "97\n",
      "99\n",
      "102\n",
      "103\n",
      "104\n",
      "106\n",
      "109\n",
      "114\n",
      "119\n",
      "126\n",
      "136\n",
      "141\n",
      "146\n",
      "152\n",
      "159\n",
      "162\n",
      "169\n",
      "177\n"
     ]
    }
   ],
   "source": [
    "orderDic = {}\n",
    "orderDicList = []\n",
    "\n",
    "#108512 in order \n",
    "count = 0\n",
    "for perThres in linkslists:\n",
    "    #perThres = linkslists[20]\n",
    "    for perComp in perThres:\n",
    "        #get the minimum order in this component if exist, get the order for this component\n",
    "        orders = [orderDic[link] for link in perComp if link in orderDic]\n",
    "        if len(orders) == 0:\n",
    "            count = count + 1\n",
    "            minOrder = count\n",
    "        else:\n",
    "            minOrder = min(orders)\n",
    "        #sign the link with minimum order\n",
    "        for link in perComp:\n",
    "            orderDic[link] = minOrder\n",
    "    print(len(orderDic))\n",
    "    #temp = copy.deepcopy(orderDic)\n",
    "    #deep copy\n",
    "    temp = {}\n",
    "    for key in orderDic:\n",
    "        temp[key] = orderDic[key]\n",
    "    orderDicList.append(temp)"
   ]
  },
  {
   "cell_type": "code",
   "execution_count": 20,
   "metadata": {
    "collapsed": false
   },
   "outputs": [
    {
     "name": "stdout",
     "output_type": "stream",
     "text": [
      "20\n"
     ]
    }
   ],
   "source": [
    "maxn = []\n",
    "#print(orderDicList[12])\n",
    "#print(max(orderDicList[12].values()))\n",
    "for orderDic in orderDicList:\n",
    "    if len(orderDic) is not 0:\n",
    "        n = max(orderDic.values())\n",
    "        maxn.append(n)\n",
    "\n",
    "n = max(maxn)\n",
    "print(n)\n",
    "begin = []\n",
    "life = []\n",
    "for i in range(1,(n+1)):\n",
    "    count = 0\n",
    "    for j in range(len(orderDicList)):\n",
    "        if i in orderDicList[j].values():\n",
    "            if count == 0:\n",
    "                beginP = j+1\n",
    "            count = count+1\n",
    "    begin.append(beginP)\n",
    "    life.append(count)"
   ]
  },
  {
   "cell_type": "code",
   "execution_count": 21,
   "metadata": {
    "collapsed": false
   },
   "outputs": [
    {
     "data": {
      "text/plain": [
       "[14,\n",
       " 16,\n",
       " 17,\n",
       " 18,\n",
       " 19,\n",
       " 19,\n",
       " 19,\n",
       " 20,\n",
       " 20,\n",
       " 21,\n",
       " 21,\n",
       " 23,\n",
       " 24,\n",
       " 24,\n",
       " 25,\n",
       " 25,\n",
       " 27,\n",
       " 27,\n",
       " 42,\n",
       " 75]"
      ]
     },
     "execution_count": 21,
     "metadata": {},
     "output_type": "execute_result"
    }
   ],
   "source": [
    "begin"
   ]
  },
  {
   "cell_type": "code",
   "execution_count": 22,
   "metadata": {
    "collapsed": false
   },
   "outputs": [
    {
     "data": {
      "text/plain": [
       "[67, 56, 2, 44, 49, 45, 1, 50, 1, 1, 36, 1, 41, 1, 40, 1, 43, 1, 39, 2]"
      ]
     },
     "execution_count": 22,
     "metadata": {},
     "output_type": "execute_result"
    }
   ],
   "source": [
    "life"
   ]
  },
  {
   "cell_type": "code",
   "execution_count": null,
   "metadata": {
    "collapsed": true
   },
   "outputs": [],
   "source": []
  }
 ],
 "metadata": {
  "kernelspec": {
   "display_name": "Python [Root]",
   "language": "python",
   "name": "Python [Root]"
  },
  "language_info": {
   "codemirror_mode": {
    "name": "ipython",
    "version": 3
   },
   "file_extension": ".py",
   "mimetype": "text/x-python",
   "name": "python",
   "nbconvert_exporter": "python",
   "pygments_lexer": "ipython3",
   "version": "3.5.2"
  }
 },
 "nbformat": 4,
 "nbformat_minor": 0
}
